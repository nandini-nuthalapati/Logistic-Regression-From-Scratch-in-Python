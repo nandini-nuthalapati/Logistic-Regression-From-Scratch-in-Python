{
 "cells": [
  {
   "cell_type": "markdown",
   "metadata": {},
   "source": [
    "* This notebook contains code on how to implement logistic regression without using built in functions and also looks at various model evaluation metrics for classification models\n",
    "* Note: My goal is just to explore logistic regression and not to build the best model"
   ]
  },
  {
   "cell_type": "code",
   "execution_count": 97,
   "metadata": {},
   "outputs": [],
   "source": [
    "# Import all the required libraries\n",
    "import numpy as np\n",
    "import pandas as pd\n",
    "import matplotlib\n",
    "import matplotlib.pyplot as plt\n",
    "%matplotlib inline\n",
    "from pandas.plotting import scatter_matrix\n",
    "from sklearn.model_selection import train_test_split\n",
    "from numpy.linalg import inv\n",
    "import statsmodels.api as sm\n",
    "from sklearn.metrics import confusion_matrix\n",
    "from sklearn.metrics import roc_auc_score,roc_curve\n",
    "from sklearn.metrics import classification_report"
   ]
  },
  {
   "cell_type": "code",
   "execution_count": 95,
   "metadata": {},
   "outputs": [
    {
     "data": {
      "text/html": [
       "<div>\n",
       "<style>\n",
       "    .dataframe thead tr:only-child th {\n",
       "        text-align: right;\n",
       "    }\n",
       "\n",
       "    .dataframe thead th {\n",
       "        text-align: left;\n",
       "    }\n",
       "\n",
       "    .dataframe tbody tr th {\n",
       "        vertical-align: top;\n",
       "    }\n",
       "</style>\n",
       "<table border=\"1\" class=\"dataframe\">\n",
       "  <thead>\n",
       "    <tr style=\"text-align: right;\">\n",
       "      <th></th>\n",
       "      <th>Category</th>\n",
       "      <th>currency</th>\n",
       "      <th>sellerRating</th>\n",
       "      <th>Duration</th>\n",
       "      <th>endDay</th>\n",
       "      <th>ClosePrice</th>\n",
       "      <th>OpenPrice</th>\n",
       "      <th>Competitive?</th>\n",
       "    </tr>\n",
       "  </thead>\n",
       "  <tbody>\n",
       "    <tr>\n",
       "      <th>0</th>\n",
       "      <td>Music/Movie/Game</td>\n",
       "      <td>US</td>\n",
       "      <td>3249</td>\n",
       "      <td>5</td>\n",
       "      <td>Mon</td>\n",
       "      <td>0.01</td>\n",
       "      <td>0.01</td>\n",
       "      <td>0</td>\n",
       "    </tr>\n",
       "    <tr>\n",
       "      <th>1</th>\n",
       "      <td>Music/Movie/Game</td>\n",
       "      <td>US</td>\n",
       "      <td>3249</td>\n",
       "      <td>5</td>\n",
       "      <td>Mon</td>\n",
       "      <td>0.01</td>\n",
       "      <td>0.01</td>\n",
       "      <td>0</td>\n",
       "    </tr>\n",
       "    <tr>\n",
       "      <th>2</th>\n",
       "      <td>Music/Movie/Game</td>\n",
       "      <td>US</td>\n",
       "      <td>3249</td>\n",
       "      <td>5</td>\n",
       "      <td>Mon</td>\n",
       "      <td>0.01</td>\n",
       "      <td>0.01</td>\n",
       "      <td>0</td>\n",
       "    </tr>\n",
       "    <tr>\n",
       "      <th>3</th>\n",
       "      <td>Music/Movie/Game</td>\n",
       "      <td>US</td>\n",
       "      <td>3249</td>\n",
       "      <td>5</td>\n",
       "      <td>Mon</td>\n",
       "      <td>0.01</td>\n",
       "      <td>0.01</td>\n",
       "      <td>0</td>\n",
       "    </tr>\n",
       "    <tr>\n",
       "      <th>4</th>\n",
       "      <td>Music/Movie/Game</td>\n",
       "      <td>US</td>\n",
       "      <td>3249</td>\n",
       "      <td>5</td>\n",
       "      <td>Mon</td>\n",
       "      <td>0.01</td>\n",
       "      <td>0.01</td>\n",
       "      <td>0</td>\n",
       "    </tr>\n",
       "  </tbody>\n",
       "</table>\n",
       "</div>"
      ],
      "text/plain": [
       "           Category currency  sellerRating  Duration endDay  ClosePrice  \\\n",
       "0  Music/Movie/Game       US          3249         5    Mon        0.01   \n",
       "1  Music/Movie/Game       US          3249         5    Mon        0.01   \n",
       "2  Music/Movie/Game       US          3249         5    Mon        0.01   \n",
       "3  Music/Movie/Game       US          3249         5    Mon        0.01   \n",
       "4  Music/Movie/Game       US          3249         5    Mon        0.01   \n",
       "\n",
       "   OpenPrice  Competitive?  \n",
       "0       0.01             0  \n",
       "1       0.01             0  \n",
       "2       0.01             0  \n",
       "3       0.01             0  \n",
       "4       0.01             0  "
      ]
     },
     "execution_count": 95,
     "metadata": {},
     "output_type": "execute_result"
    }
   ],
   "source": [
    "# Import the dataset\n",
    "# This is a pilot dataset which contains 1972 ebay auctions  \n",
    "# Our goal is to predict whether the auction is competitive or not\n",
    "df=pd.read_csv('eBayAuctions.csv')\n",
    "# Display top 5 records\n",
    "df.head()"
   ]
  },
  {
   "cell_type": "code",
   "execution_count": 3,
   "metadata": {},
   "outputs": [
    {
     "data": {
      "text/plain": [
       "Category        False\n",
       "currency        False\n",
       "sellerRating    False\n",
       "Duration        False\n",
       "endDay          False\n",
       "ClosePrice      False\n",
       "OpenPrice       False\n",
       "Competitive?    False\n",
       "dtype: bool"
      ]
     },
     "execution_count": 3,
     "metadata": {},
     "output_type": "execute_result"
    }
   ],
   "source": [
    "# Check if there are any null values in the dataframe\n",
    "df.isnull().any()\n",
    "# There are no null values in the data as shown below"
   ]
  },
  {
   "cell_type": "code",
   "execution_count": 4,
   "metadata": {
    "scrolled": true
   },
   "outputs": [
    {
     "data": {
      "text/plain": [
       "Category         object\n",
       "currency         object\n",
       "sellerRating      int64\n",
       "Duration          int64\n",
       "endDay           object\n",
       "ClosePrice      float64\n",
       "OpenPrice       float64\n",
       "Competitive?      int64\n",
       "dtype: object"
      ]
     },
     "execution_count": 4,
     "metadata": {},
     "output_type": "execute_result"
    }
   ],
   "source": [
    "# Cross check the data types of all the columns before modeling\n",
    "df.dtypes\n",
    "# 'Category','currency', 'endDay' and 'Competitive?' need to be changed to categorical"
   ]
  },
  {
   "cell_type": "code",
   "execution_count": 5,
   "metadata": {},
   "outputs": [],
   "source": [
    "# Change the data types of the categorical variables accordingly\n",
    "df.Category=df.Category.astype('category')\n",
    "df.currency=df.currency.astype('category')\n",
    "df.endDay=df.endDay.astype('category')\n",
    "df['Competitive?']=df['Competitive?'].astype('category')"
   ]
  },
  {
   "cell_type": "code",
   "execution_count": 6,
   "metadata": {},
   "outputs": [
    {
     "data": {
      "image/png": "[encoded data removed]",
      "text/plain": [
       "<matplotlib.figure.Figure at 0x296f1e7dc50>"
      ]
     },
     "metadata": {},
     "output_type": "display_data"
    }
   ],
   "source": [
    "# Scatter plot of all the variables, open price and close price look correlated\n",
    "plt=scatter_matrix(df,diagonal='kde',figsize=(12,7))"
   ]
  },
  {
   "cell_type": "code",
   "execution_count": 7,
   "metadata": {},
   "outputs": [],
   "source": [
    "# Split the whole data into X and Y sets\n",
    "df_Y=df['Competitive?']\n",
    "df_X=df.drop('Competitive?',axis=1)"
   ]
  },
  {
   "cell_type": "code",
   "execution_count": 8,
   "metadata": {
    "scrolled": true
   },
   "outputs": [
    {
     "data": {
      "text/html": [
       "<div>\n",
       "<style>\n",
       "    .dataframe thead tr:only-child th {\n",
       "        text-align: right;\n",
       "    }\n",
       "\n",
       "    .dataframe thead th {\n",
       "        text-align: left;\n",
       "    }\n",
       "\n",
       "    .dataframe tbody tr th {\n",
       "        vertical-align: top;\n",
       "    }\n",
       "</style>\n",
       "<table border=\"1\" class=\"dataframe\">\n",
       "  <thead>\n",
       "    <tr style=\"text-align: right;\">\n",
       "      <th></th>\n",
       "      <th>Intercept</th>\n",
       "      <th>sellerRating</th>\n",
       "      <th>Duration</th>\n",
       "      <th>ClosePrice</th>\n",
       "      <th>OpenPrice</th>\n",
       "      <th>Category_Automotive</th>\n",
       "      <th>Category_Books</th>\n",
       "      <th>Category_Business/Industrial</th>\n",
       "      <th>Category_Clothing/Accessories</th>\n",
       "      <th>Category_Coins/Stamps</th>\n",
       "      <th>...</th>\n",
       "      <th>Category_SportingGoods</th>\n",
       "      <th>Category_Toys/Hobbies</th>\n",
       "      <th>currency_GBP</th>\n",
       "      <th>currency_US</th>\n",
       "      <th>endDay_Mon</th>\n",
       "      <th>endDay_Sat</th>\n",
       "      <th>endDay_Sun</th>\n",
       "      <th>endDay_Thu</th>\n",
       "      <th>endDay_Tue</th>\n",
       "      <th>endDay_Wed</th>\n",
       "    </tr>\n",
       "  </thead>\n",
       "  <tbody>\n",
       "    <tr>\n",
       "      <th>0</th>\n",
       "      <td>1</td>\n",
       "      <td>3249</td>\n",
       "      <td>5</td>\n",
       "      <td>0.01</td>\n",
       "      <td>0.01</td>\n",
       "      <td>0</td>\n",
       "      <td>0</td>\n",
       "      <td>0</td>\n",
       "      <td>0</td>\n",
       "      <td>0</td>\n",
       "      <td>...</td>\n",
       "      <td>0</td>\n",
       "      <td>0</td>\n",
       "      <td>0</td>\n",
       "      <td>1</td>\n",
       "      <td>1</td>\n",
       "      <td>0</td>\n",
       "      <td>0</td>\n",
       "      <td>0</td>\n",
       "      <td>0</td>\n",
       "      <td>0</td>\n",
       "    </tr>\n",
       "    <tr>\n",
       "      <th>1</th>\n",
       "      <td>1</td>\n",
       "      <td>3249</td>\n",
       "      <td>5</td>\n",
       "      <td>0.01</td>\n",
       "      <td>0.01</td>\n",
       "      <td>0</td>\n",
       "      <td>0</td>\n",
       "      <td>0</td>\n",
       "      <td>0</td>\n",
       "      <td>0</td>\n",
       "      <td>...</td>\n",
       "      <td>0</td>\n",
       "      <td>0</td>\n",
       "      <td>0</td>\n",
       "      <td>1</td>\n",
       "      <td>1</td>\n",
       "      <td>0</td>\n",
       "      <td>0</td>\n",
       "      <td>0</td>\n",
       "      <td>0</td>\n",
       "      <td>0</td>\n",
       "    </tr>\n",
       "    <tr>\n",
       "      <th>2</th>\n",
       "      <td>1</td>\n",
       "      <td>3249</td>\n",
       "      <td>5</td>\n",
       "      <td>0.01</td>\n",
       "      <td>0.01</td>\n",
       "      <td>0</td>\n",
       "      <td>0</td>\n",
       "      <td>0</td>\n",
       "      <td>0</td>\n",
       "      <td>0</td>\n",
       "      <td>...</td>\n",
       "      <td>0</td>\n",
       "      <td>0</td>\n",
       "      <td>0</td>\n",
       "      <td>1</td>\n",
       "      <td>1</td>\n",
       "      <td>0</td>\n",
       "      <td>0</td>\n",
       "      <td>0</td>\n",
       "      <td>0</td>\n",
       "      <td>0</td>\n",
       "    </tr>\n",
       "    <tr>\n",
       "      <th>3</th>\n",
       "      <td>1</td>\n",
       "      <td>3249</td>\n",
       "      <td>5</td>\n",
       "      <td>0.01</td>\n",
       "      <td>0.01</td>\n",
       "      <td>0</td>\n",
       "      <td>0</td>\n",
       "      <td>0</td>\n",
       "      <td>0</td>\n",
       "      <td>0</td>\n",
       "      <td>...</td>\n",
       "      <td>0</td>\n",
       "      <td>0</td>\n",
       "      <td>0</td>\n",
       "      <td>1</td>\n",
       "      <td>1</td>\n",
       "      <td>0</td>\n",
       "      <td>0</td>\n",
       "      <td>0</td>\n",
       "      <td>0</td>\n",
       "      <td>0</td>\n",
       "    </tr>\n",
       "    <tr>\n",
       "      <th>4</th>\n",
       "      <td>1</td>\n",
       "      <td>3249</td>\n",
       "      <td>5</td>\n",
       "      <td>0.01</td>\n",
       "      <td>0.01</td>\n",
       "      <td>0</td>\n",
       "      <td>0</td>\n",
       "      <td>0</td>\n",
       "      <td>0</td>\n",
       "      <td>0</td>\n",
       "      <td>...</td>\n",
       "      <td>0</td>\n",
       "      <td>0</td>\n",
       "      <td>0</td>\n",
       "      <td>1</td>\n",
       "      <td>1</td>\n",
       "      <td>0</td>\n",
       "      <td>0</td>\n",
       "      <td>0</td>\n",
       "      <td>0</td>\n",
       "      <td>0</td>\n",
       "    </tr>\n",
       "  </tbody>\n",
       "</table>\n",
       "<p>5 rows × 30 columns</p>\n",
       "</div>"
      ],
      "text/plain": [
       "   Intercept  sellerRating  Duration  ClosePrice  OpenPrice  \\\n",
       "0          1          3249         5        0.01       0.01   \n",
       "1          1          3249         5        0.01       0.01   \n",
       "2          1          3249         5        0.01       0.01   \n",
       "3          1          3249         5        0.01       0.01   \n",
       "4          1          3249         5        0.01       0.01   \n",
       "\n",
       "   Category_Automotive  Category_Books  Category_Business/Industrial  \\\n",
       "0                    0               0                             0   \n",
       "1                    0               0                             0   \n",
       "2                    0               0                             0   \n",
       "3                    0               0                             0   \n",
       "4                    0               0                             0   \n",
       "\n",
       "   Category_Clothing/Accessories  Category_Coins/Stamps     ...      \\\n",
       "0                              0                      0     ...       \n",
       "1                              0                      0     ...       \n",
       "2                              0                      0     ...       \n",
       "3                              0                      0     ...       \n",
       "4                              0                      0     ...       \n",
       "\n",
       "   Category_SportingGoods  Category_Toys/Hobbies  currency_GBP  currency_US  \\\n",
       "0                       0                      0             0            1   \n",
       "1                       0                      0             0            1   \n",
       "2                       0                      0             0            1   \n",
       "3                       0                      0             0            1   \n",
       "4                       0                      0             0            1   \n",
       "\n",
       "   endDay_Mon  endDay_Sat  endDay_Sun  endDay_Thu  endDay_Tue  endDay_Wed  \n",
       "0           1           0           0           0           0           0  \n",
       "1           1           0           0           0           0           0  \n",
       "2           1           0           0           0           0           0  \n",
       "3           1           0           0           0           0           0  \n",
       "4           1           0           0           0           0           0  \n",
       "\n",
       "[5 rows x 30 columns]"
      ]
     },
     "execution_count": 8,
     "metadata": {},
     "output_type": "execute_result"
    }
   ],
   "source": [
    "# Generate dummy values of the categorical variables and drop one (i.e. n-1 dummies for n categories)\n",
    "df_dummies=pd.get_dummies(df_X,drop_first=True)\n",
    "df_dummies.insert(0,'Intercept',[1]*len(df_dummies))\n",
    "# Display top 5 records\n",
    "df_dummies.head()"
   ]
  },
  {
   "cell_type": "code",
   "execution_count": 9,
   "metadata": {},
   "outputs": [],
   "source": [
    "# Splitting data into 70:30 train:test ratio\n",
    "X_train,X_test,Y_train,Y_test=train_test_split(df_dummies,df_Y,test_size=0.3,random_state=33)"
   ]
  },
  {
   "cell_type": "code",
   "execution_count": 96,
   "metadata": {},
   "outputs": [],
   "source": [
    "# Changing the index of the records to sequential\n",
    "X_train.index=range(len(X_train))\n",
    "Y_train.index=range(len(Y_train))\n",
    "X_test.index=range(len(X_test))\n",
    "Y_test.index=range(len(Y_test))"
   ]
  },
  {
   "cell_type": "markdown",
   "metadata": {},
   "source": [
    "#### Logistic Regression from Scratch"
   ]
  },
  {
   "cell_type": "code",
   "execution_count": 30,
   "metadata": {},
   "outputs": [],
   "source": [
    "# Convert X and Y train sets to matrices\n",
    "X=np.array(X_train)\n",
    "Y=np.array(Y_train)"
   ]
  },
  {
   "cell_type": "code",
   "execution_count": 31,
   "metadata": {},
   "outputs": [
    {
     "data": {
      "text/plain": [
       "array([  6.17695814e-01,  -9.64449154e-06,  -1.26210148e-02,\n",
       "         1.50460507e-03,  -2.84002872e-03,  -1.68306118e-01,\n",
       "        -2.39991092e-02,   9.81091700e-02,  -1.00762478e-01,\n",
       "        -3.05157579e-01,   2.97869333e-02,   3.28021155e-02,\n",
       "         1.15369574e-01,  -3.81853726e-01,  -4.21625012e-01,\n",
       "         3.22141897e-02,  -1.33695646e-01,  -4.11695215e-02,\n",
       "         8.79316038e-02,  -1.22139431e-01,   1.09930411e-01,\n",
       "        -4.62338496e-03,   3.20796806e-01,   1.01578421e-02,\n",
       "         1.99532590e-01,  -6.67132440e-02,   1.79853599e-02,\n",
       "        -7.22726623e-02,   9.60017475e-02,   2.08644745e-02])"
      ]
     },
     "execution_count": 31,
     "metadata": {},
     "output_type": "execute_result"
    }
   ],
   "source": [
    "# Calculate coefficients from (XT.X)-1.XT.Y\n",
    "coefficients=inv(X.transpose().dot(X)).dot(X.transpose()).dot(Y)\n",
    "# Coefficients from the equation\n",
    "coefficients"
   ]
  },
  {
   "cell_type": "code",
   "execution_count": 54,
   "metadata": {},
   "outputs": [
    {
     "data": {
      "text/plain": [
       "array([ 0.67618342,  0.58955049,  0.67788777, ...,  0.67683326,\n",
       "        0.61407099,  0.61557691])"
      ]
     },
     "execution_count": 54,
     "metadata": {},
     "output_type": "execute_result"
    }
   ],
   "source": [
    "# Probability predictions from the equation\n",
    "predictions=X.dot(inv(X.transpose().dot(X)).dot(X.transpose()).dot(Y))\n",
    "predictions=np.exp(predictions)/(1+np.exp(predictions))\n",
    "predictions"
   ]
  },
  {
   "cell_type": "markdown",
   "metadata": {},
   "source": [
    "#### glm model"
   ]
  },
  {
   "cell_type": "code",
   "execution_count": 53,
   "metadata": {},
   "outputs": [
    {
     "data": {
      "text/html": [
       "<table class=\"simpletable\">\n",
       "<caption>Generalized Linear Model Regression Results</caption>\n",
       "<tr>\n",
       "  <th>Dep. Variable:</th>    <td>Competitive?</td>   <th>  No. Observations:  </th>     <td>  1380</td>    \n",
       "</tr>\n",
       "<tr>\n",
       "  <th>Model:</th>                 <td>GLM</td>       <th>  Df Residuals:      </th>     <td>  1350</td>    \n",
       "</tr>\n",
       "<tr>\n",
       "  <th>Model Family:</th>       <td>Gaussian</td>     <th>  Df Model:          </th>     <td>    29</td>    \n",
       "</tr>\n",
       "<tr>\n",
       "  <th>Link Function:</th>      <td>identity</td>     <th>  Scale:             </th> <td>0.207815964196</td>\n",
       "</tr>\n",
       "<tr>\n",
       "  <th>Method:</th>               <td>IRLS</td>       <th>  Log-Likelihood:    </th>    <td> -858.91</td>   \n",
       "</tr>\n",
       "<tr>\n",
       "  <th>Date:</th>           <td>Fri, 02 Mar 2018</td> <th>  Deviance:          </th>    <td>  280.55</td>   \n",
       "</tr>\n",
       "<tr>\n",
       "  <th>Time:</th>               <td>08:23:15</td>     <th>  Pearson chi2:      </th>     <td>  281.</td>    \n",
       "</tr>\n",
       "<tr>\n",
       "  <th>No. Iterations:</th>         <td>2</td>        <th>                     </th>        <td> </td>      \n",
       "</tr>\n",
       "</table>\n",
       "<table class=\"simpletable\">\n",
       "<tr>\n",
       "                <td></td>                   <th>coef</th>     <th>std err</th>      <th>z</th>      <th>P>|z|</th>  <th>[0.025</th>    <th>0.975]</th>  \n",
       "</tr>\n",
       "<tr>\n",
       "  <th>Intercept</th>                     <td>    0.6177</td> <td>    0.085</td> <td>    7.251</td> <td> 0.000</td> <td>    0.451</td> <td>    0.785</td>\n",
       "</tr>\n",
       "<tr>\n",
       "  <th>sellerRating</th>                  <td>-9.644e-06</td> <td> 2.49e-06</td> <td>   -3.878</td> <td> 0.000</td> <td>-1.45e-05</td> <td>-4.77e-06</td>\n",
       "</tr>\n",
       "<tr>\n",
       "  <th>Duration</th>                      <td>   -0.0126</td> <td>    0.008</td> <td>   -1.669</td> <td> 0.095</td> <td>   -0.027</td> <td>    0.002</td>\n",
       "</tr>\n",
       "<tr>\n",
       "  <th>ClosePrice</th>                    <td>    0.0015</td> <td>    0.000</td> <td>    8.805</td> <td> 0.000</td> <td>    0.001</td> <td>    0.002</td>\n",
       "</tr>\n",
       "<tr>\n",
       "  <th>OpenPrice</th>                     <td>   -0.0028</td> <td>    0.000</td> <td>   -5.702</td> <td> 0.000</td> <td>   -0.004</td> <td>   -0.002</td>\n",
       "</tr>\n",
       "<tr>\n",
       "  <th>Category_Automotive</th>           <td>   -0.1683</td> <td>    0.065</td> <td>   -2.570</td> <td> 0.010</td> <td>   -0.297</td> <td>   -0.040</td>\n",
       "</tr>\n",
       "<tr>\n",
       "  <th>Category_Books</th>                <td>   -0.0240</td> <td>    0.088</td> <td>   -0.272</td> <td> 0.785</td> <td>   -0.197</td> <td>    0.149</td>\n",
       "</tr>\n",
       "<tr>\n",
       "  <th>Category_Business/Industrial</th>  <td>    0.0981</td> <td>    0.127</td> <td>    0.773</td> <td> 0.439</td> <td>   -0.151</td> <td>    0.347</td>\n",
       "</tr>\n",
       "<tr>\n",
       "  <th>Category_Clothing/Accessories</th> <td>   -0.1008</td> <td>    0.071</td> <td>   -1.427</td> <td> 0.154</td> <td>   -0.239</td> <td>    0.038</td>\n",
       "</tr>\n",
       "<tr>\n",
       "  <th>Category_Coins/Stamps</th>         <td>   -0.3052</td> <td>    0.101</td> <td>   -3.008</td> <td> 0.003</td> <td>   -0.504</td> <td>   -0.106</td>\n",
       "</tr>\n",
       "<tr>\n",
       "  <th>Category_Collectibles</th>         <td>    0.0298</td> <td>    0.056</td> <td>    0.532</td> <td> 0.595</td> <td>   -0.080</td> <td>    0.140</td>\n",
       "</tr>\n",
       "<tr>\n",
       "  <th>Category_Computer</th>             <td>    0.0328</td> <td>    0.101</td> <td>    0.324</td> <td> 0.746</td> <td>   -0.166</td> <td>    0.231</td>\n",
       "</tr>\n",
       "<tr>\n",
       "  <th>Category_Electronics</th>          <td>    0.1154</td> <td>    0.092</td> <td>    1.255</td> <td> 0.210</td> <td>   -0.065</td> <td>    0.296</td>\n",
       "</tr>\n",
       "<tr>\n",
       "  <th>Category_EverythingElse</th>       <td>   -0.3819</td> <td>    0.134</td> <td>   -2.857</td> <td> 0.004</td> <td>   -0.644</td> <td>   -0.120</td>\n",
       "</tr>\n",
       "<tr>\n",
       "  <th>Category_Health/Beauty</th>        <td>   -0.4216</td> <td>    0.079</td> <td>   -5.349</td> <td> 0.000</td> <td>   -0.576</td> <td>   -0.267</td>\n",
       "</tr>\n",
       "<tr>\n",
       "  <th>Category_Home/Garden</th>          <td>    0.0322</td> <td>    0.073</td> <td>    0.442</td> <td> 0.659</td> <td>   -0.111</td> <td>    0.175</td>\n",
       "</tr>\n",
       "<tr>\n",
       "  <th>Category_Jewelry</th>              <td>   -0.1337</td> <td>    0.079</td> <td>   -1.702</td> <td> 0.089</td> <td>   -0.288</td> <td>    0.020</td>\n",
       "</tr>\n",
       "<tr>\n",
       "  <th>Category_Music/Movie/Game</th>     <td>   -0.0412</td> <td>    0.051</td> <td>   -0.804</td> <td> 0.422</td> <td>   -0.142</td> <td>    0.059</td>\n",
       "</tr>\n",
       "<tr>\n",
       "  <th>Category_Photography</th>          <td>    0.0879</td> <td>    0.153</td> <td>    0.575</td> <td> 0.565</td> <td>   -0.212</td> <td>    0.388</td>\n",
       "</tr>\n",
       "<tr>\n",
       "  <th>Category_Pottery/Glass</th>        <td>   -0.1221</td> <td>    0.142</td> <td>   -0.859</td> <td> 0.390</td> <td>   -0.401</td> <td>    0.157</td>\n",
       "</tr>\n",
       "<tr>\n",
       "  <th>Category_SportingGoods</th>        <td>    0.1099</td> <td>    0.069</td> <td>    1.594</td> <td> 0.111</td> <td>   -0.025</td> <td>    0.245</td>\n",
       "</tr>\n",
       "<tr>\n",
       "  <th>Category_Toys/Hobbies</th>         <td>   -0.0046</td> <td>    0.058</td> <td>   -0.080</td> <td> 0.936</td> <td>   -0.118</td> <td>    0.108</td>\n",
       "</tr>\n",
       "<tr>\n",
       "  <th>currency_GBP</th>                  <td>    0.3208</td> <td>    0.086</td> <td>    3.727</td> <td> 0.000</td> <td>    0.152</td> <td>    0.490</td>\n",
       "</tr>\n",
       "<tr>\n",
       "  <th>currency_US</th>                   <td>    0.0102</td> <td>    0.040</td> <td>    0.256</td> <td> 0.798</td> <td>   -0.068</td> <td>    0.088</td>\n",
       "</tr>\n",
       "<tr>\n",
       "  <th>endDay_Mon</th>                    <td>    0.1995</td> <td>    0.043</td> <td>    4.679</td> <td> 0.000</td> <td>    0.116</td> <td>    0.283</td>\n",
       "</tr>\n",
       "<tr>\n",
       "  <th>endDay_Sat</th>                    <td>   -0.0667</td> <td>    0.046</td> <td>   -1.440</td> <td> 0.150</td> <td>   -0.158</td> <td>    0.024</td>\n",
       "</tr>\n",
       "<tr>\n",
       "  <th>endDay_Sun</th>                    <td>    0.0180</td> <td>    0.047</td> <td>    0.380</td> <td> 0.704</td> <td>   -0.075</td> <td>    0.111</td>\n",
       "</tr>\n",
       "<tr>\n",
       "  <th>endDay_Thu</th>                    <td>   -0.0723</td> <td>    0.082</td> <td>   -0.886</td> <td> 0.376</td> <td>   -0.232</td> <td>    0.088</td>\n",
       "</tr>\n",
       "<tr>\n",
       "  <th>endDay_Tue</th>                    <td>    0.0960</td> <td>    0.057</td> <td>    1.697</td> <td> 0.090</td> <td>   -0.015</td> <td>    0.207</td>\n",
       "</tr>\n",
       "<tr>\n",
       "  <th>endDay_Wed</th>                    <td>    0.0209</td> <td>    0.076</td> <td>    0.273</td> <td> 0.784</td> <td>   -0.129</td> <td>    0.170</td>\n",
       "</tr>\n",
       "</table>"
      ],
      "text/plain": [
       "<class 'statsmodels.iolib.summary.Summary'>\n",
       "\"\"\"\n",
       "                 Generalized Linear Model Regression Results                  \n",
       "==============================================================================\n",
       "Dep. Variable:           Competitive?   No. Observations:                 1380\n",
       "Model:                            GLM   Df Residuals:                     1350\n",
       "Model Family:                Gaussian   Df Model:                           29\n",
       "Link Function:               identity   Scale:                  0.207815964196\n",
       "Method:                          IRLS   Log-Likelihood:                -858.91\n",
       "Date:                Fri, 02 Mar 2018   Deviance:                       280.55\n",
       "Time:                        08:23:15   Pearson chi2:                     281.\n",
       "No. Iterations:                     2                                         \n",
       "=================================================================================================\n",
       "                                    coef    std err          z      P>|z|      [0.025      0.975]\n",
       "-------------------------------------------------------------------------------------------------\n",
       "Intercept                         0.6177      0.085      7.251      0.000       0.451       0.785\n",
       "sellerRating                  -9.644e-06   2.49e-06     -3.878      0.000   -1.45e-05   -4.77e-06\n",
       "Duration                         -0.0126      0.008     -1.669      0.095      -0.027       0.002\n",
       "ClosePrice                        0.0015      0.000      8.805      0.000       0.001       0.002\n",
       "OpenPrice                        -0.0028      0.000     -5.702      0.000      -0.004      -0.002\n",
       "Category_Automotive              -0.1683      0.065     -2.570      0.010      -0.297      -0.040\n",
       "Category_Books                   -0.0240      0.088     -0.272      0.785      -0.197       0.149\n",
       "Category_Business/Industrial      0.0981      0.127      0.773      0.439      -0.151       0.347\n",
       "Category_Clothing/Accessories    -0.1008      0.071     -1.427      0.154      -0.239       0.038\n",
       "Category_Coins/Stamps            -0.3052      0.101     -3.008      0.003      -0.504      -0.106\n",
       "Category_Collectibles             0.0298      0.056      0.532      0.595      -0.080       0.140\n",
       "Category_Computer                 0.0328      0.101      0.324      0.746      -0.166       0.231\n",
       "Category_Electronics              0.1154      0.092      1.255      0.210      -0.065       0.296\n",
       "Category_EverythingElse          -0.3819      0.134     -2.857      0.004      -0.644      -0.120\n",
       "Category_Health/Beauty           -0.4216      0.079     -5.349      0.000      -0.576      -0.267\n",
       "Category_Home/Garden              0.0322      0.073      0.442      0.659      -0.111       0.175\n",
       "Category_Jewelry                 -0.1337      0.079     -1.702      0.089      -0.288       0.020\n",
       "Category_Music/Movie/Game        -0.0412      0.051     -0.804      0.422      -0.142       0.059\n",
       "Category_Photography              0.0879      0.153      0.575      0.565      -0.212       0.388\n",
       "Category_Pottery/Glass           -0.1221      0.142     -0.859      0.390      -0.401       0.157\n",
       "Category_SportingGoods            0.1099      0.069      1.594      0.111      -0.025       0.245\n",
       "Category_Toys/Hobbies            -0.0046      0.058     -0.080      0.936      -0.118       0.108\n",
       "currency_GBP                      0.3208      0.086      3.727      0.000       0.152       0.490\n",
       "currency_US                       0.0102      0.040      0.256      0.798      -0.068       0.088\n",
       "endDay_Mon                        0.1995      0.043      4.679      0.000       0.116       0.283\n",
       "endDay_Sat                       -0.0667      0.046     -1.440      0.150      -0.158       0.024\n",
       "endDay_Sun                        0.0180      0.047      0.380      0.704      -0.075       0.111\n",
       "endDay_Thu                       -0.0723      0.082     -0.886      0.376      -0.232       0.088\n",
       "endDay_Tue                        0.0960      0.057      1.697      0.090      -0.015       0.207\n",
       "endDay_Wed                        0.0209      0.076      0.273      0.784      -0.129       0.170\n",
       "=================================================================================================\n",
       "\"\"\""
      ]
     },
     "execution_count": 53,
     "metadata": {},
     "output_type": "execute_result"
    }
   ],
   "source": [
    "# fit glm model\n",
    "model_lg=sm.GLM(Y_train,X_train)\n",
    "model_lg=model_lg.fit()\n",
    "# Intercept and coefficients from glm\n",
    "model_lg.summary()"
   ]
  },
  {
   "cell_type": "code",
   "execution_count": 52,
   "metadata": {
    "collapsed": true
   },
   "outputs": [
    {
     "data": {
      "text/html": [
       "<div>\n",
       "<style>\n",
       "    .dataframe thead tr:only-child th {\n",
       "        text-align: right;\n",
       "    }\n",
       "\n",
       "    .dataframe thead th {\n",
       "        text-align: left;\n",
       "    }\n",
       "\n",
       "    .dataframe tbody tr th {\n",
       "        vertical-align: top;\n",
       "    }\n",
       "</style>\n",
       "<table border=\"1\" class=\"dataframe\">\n",
       "  <thead>\n",
       "    <tr style=\"text-align: right;\">\n",
       "      <th></th>\n",
       "      <th>Equation</th>\n",
       "      <th>Glm</th>\n",
       "    </tr>\n",
       "  </thead>\n",
       "  <tbody>\n",
       "    <tr>\n",
       "      <th>Intercept</th>\n",
       "      <td>0.617696</td>\n",
       "      <td>0.617696</td>\n",
       "    </tr>\n",
       "    <tr>\n",
       "      <th>sellerRating</th>\n",
       "      <td>-0.000010</td>\n",
       "      <td>-0.000010</td>\n",
       "    </tr>\n",
       "    <tr>\n",
       "      <th>Duration</th>\n",
       "      <td>-0.012621</td>\n",
       "      <td>-0.012621</td>\n",
       "    </tr>\n",
       "    <tr>\n",
       "      <th>ClosePrice</th>\n",
       "      <td>0.001505</td>\n",
       "      <td>0.001505</td>\n",
       "    </tr>\n",
       "    <tr>\n",
       "      <th>OpenPrice</th>\n",
       "      <td>-0.002840</td>\n",
       "      <td>-0.002840</td>\n",
       "    </tr>\n",
       "    <tr>\n",
       "      <th>Category_Automotive</th>\n",
       "      <td>-0.168306</td>\n",
       "      <td>-0.168306</td>\n",
       "    </tr>\n",
       "    <tr>\n",
       "      <th>Category_Books</th>\n",
       "      <td>-0.023999</td>\n",
       "      <td>-0.023999</td>\n",
       "    </tr>\n",
       "    <tr>\n",
       "      <th>Category_Business/Industrial</th>\n",
       "      <td>0.098109</td>\n",
       "      <td>0.098109</td>\n",
       "    </tr>\n",
       "    <tr>\n",
       "      <th>Category_Clothing/Accessories</th>\n",
       "      <td>-0.100762</td>\n",
       "      <td>-0.100762</td>\n",
       "    </tr>\n",
       "    <tr>\n",
       "      <th>Category_Coins/Stamps</th>\n",
       "      <td>-0.305158</td>\n",
       "      <td>-0.305158</td>\n",
       "    </tr>\n",
       "    <tr>\n",
       "      <th>Category_Collectibles</th>\n",
       "      <td>0.029787</td>\n",
       "      <td>0.029787</td>\n",
       "    </tr>\n",
       "    <tr>\n",
       "      <th>Category_Computer</th>\n",
       "      <td>0.032802</td>\n",
       "      <td>0.032802</td>\n",
       "    </tr>\n",
       "    <tr>\n",
       "      <th>Category_Electronics</th>\n",
       "      <td>0.115370</td>\n",
       "      <td>0.115370</td>\n",
       "    </tr>\n",
       "    <tr>\n",
       "      <th>Category_EverythingElse</th>\n",
       "      <td>-0.381854</td>\n",
       "      <td>-0.381854</td>\n",
       "    </tr>\n",
       "    <tr>\n",
       "      <th>Category_Health/Beauty</th>\n",
       "      <td>-0.421625</td>\n",
       "      <td>-0.421625</td>\n",
       "    </tr>\n",
       "    <tr>\n",
       "      <th>Category_Home/Garden</th>\n",
       "      <td>0.032214</td>\n",
       "      <td>0.032214</td>\n",
       "    </tr>\n",
       "    <tr>\n",
       "      <th>Category_Jewelry</th>\n",
       "      <td>-0.133696</td>\n",
       "      <td>-0.133696</td>\n",
       "    </tr>\n",
       "    <tr>\n",
       "      <th>Category_Music/Movie/Game</th>\n",
       "      <td>-0.041170</td>\n",
       "      <td>-0.041170</td>\n",
       "    </tr>\n",
       "    <tr>\n",
       "      <th>Category_Photography</th>\n",
       "      <td>0.087932</td>\n",
       "      <td>0.087932</td>\n",
       "    </tr>\n",
       "    <tr>\n",
       "      <th>Category_Pottery/Glass</th>\n",
       "      <td>-0.122139</td>\n",
       "      <td>-0.122139</td>\n",
       "    </tr>\n",
       "    <tr>\n",
       "      <th>Category_SportingGoods</th>\n",
       "      <td>0.109930</td>\n",
       "      <td>0.109930</td>\n",
       "    </tr>\n",
       "    <tr>\n",
       "      <th>Category_Toys/Hobbies</th>\n",
       "      <td>-0.004623</td>\n",
       "      <td>-0.004623</td>\n",
       "    </tr>\n",
       "    <tr>\n",
       "      <th>currency_GBP</th>\n",
       "      <td>0.320797</td>\n",
       "      <td>0.320797</td>\n",
       "    </tr>\n",
       "    <tr>\n",
       "      <th>currency_US</th>\n",
       "      <td>0.010158</td>\n",
       "      <td>0.010158</td>\n",
       "    </tr>\n",
       "    <tr>\n",
       "      <th>endDay_Mon</th>\n",
       "      <td>0.199533</td>\n",
       "      <td>0.199533</td>\n",
       "    </tr>\n",
       "    <tr>\n",
       "      <th>endDay_Sat</th>\n",
       "      <td>-0.066713</td>\n",
       "      <td>-0.066713</td>\n",
       "    </tr>\n",
       "    <tr>\n",
       "      <th>endDay_Sun</th>\n",
       "      <td>0.017985</td>\n",
       "      <td>0.017985</td>\n",
       "    </tr>\n",
       "    <tr>\n",
       "      <th>endDay_Thu</th>\n",
       "      <td>-0.072273</td>\n",
       "      <td>-0.072273</td>\n",
       "    </tr>\n",
       "    <tr>\n",
       "      <th>endDay_Tue</th>\n",
       "      <td>0.096002</td>\n",
       "      <td>0.096002</td>\n",
       "    </tr>\n",
       "    <tr>\n",
       "      <th>endDay_Wed</th>\n",
       "      <td>0.020864</td>\n",
       "      <td>0.020864</td>\n",
       "    </tr>\n",
       "  </tbody>\n",
       "</table>\n",
       "</div>"
      ],
      "text/plain": [
       "                               Equation       Glm\n",
       "Intercept                      0.617696  0.617696\n",
       "sellerRating                  -0.000010 -0.000010\n",
       "Duration                      -0.012621 -0.012621\n",
       "ClosePrice                     0.001505  0.001505\n",
       "OpenPrice                     -0.002840 -0.002840\n",
       "Category_Automotive           -0.168306 -0.168306\n",
       "Category_Books                -0.023999 -0.023999\n",
       "Category_Business/Industrial   0.098109  0.098109\n",
       "Category_Clothing/Accessories -0.100762 -0.100762\n",
       "Category_Coins/Stamps         -0.305158 -0.305158\n",
       "Category_Collectibles          0.029787  0.029787\n",
       "Category_Computer              0.032802  0.032802\n",
       "Category_Electronics           0.115370  0.115370\n",
       "Category_EverythingElse       -0.381854 -0.381854\n",
       "Category_Health/Beauty        -0.421625 -0.421625\n",
       "Category_Home/Garden           0.032214  0.032214\n",
       "Category_Jewelry              -0.133696 -0.133696\n",
       "Category_Music/Movie/Game     -0.041170 -0.041170\n",
       "Category_Photography           0.087932  0.087932\n",
       "Category_Pottery/Glass        -0.122139 -0.122139\n",
       "Category_SportingGoods         0.109930  0.109930\n",
       "Category_Toys/Hobbies         -0.004623 -0.004623\n",
       "currency_GBP                   0.320797  0.320797\n",
       "currency_US                    0.010158  0.010158\n",
       "endDay_Mon                     0.199533  0.199533\n",
       "endDay_Sat                    -0.066713 -0.066713\n",
       "endDay_Sun                     0.017985  0.017985\n",
       "endDay_Thu                    -0.072273 -0.072273\n",
       "endDay_Tue                     0.096002  0.096002\n",
       "endDay_Wed                     0.020864  0.020864"
      ]
     },
     "execution_count": 52,
     "metadata": {},
     "output_type": "execute_result"
    }
   ],
   "source": [
    "# Coefficients from both the models\n",
    "allcoeficients=pd.DataFrame({'Equation':coefficients,'Glm':model_lg.params},index=model_lg.params.index)\n",
    "allcoeficients"
   ]
  },
  {
   "cell_type": "code",
   "execution_count": 37,
   "metadata": {},
   "outputs": [
    {
     "data": {
      "text/plain": [
       "True"
      ]
     },
     "execution_count": 37,
     "metadata": {},
     "output_type": "execute_result"
    }
   ],
   "source": [
    "# Compare output predictions of equation and glm\n",
    "def getResponses(probabilities):\n",
    "    responses=[]\n",
    "    for i in range(len(probabilities)):\n",
    "        if probabilities[i]<0.5:\n",
    "            responses.append(0)\n",
    "        else:\n",
    "            responses.append(1)\n",
    "    return responses\n",
    "getResponses(predictions)==getResponses(np.exp(model_lg.predict())/(1+np.exp(model_lg.predict())))\n",
    "# Both the predictions are equal as shown below"
   ]
  },
  {
   "cell_type": "markdown",
   "metadata": {},
   "source": [
    "### Model Diagonosis"
   ]
  },
  {
   "cell_type": "markdown",
   "metadata": {},
   "source": [
    "1. Confusion matrix"
   ]
  },
  {
   "cell_type": "code",
   "execution_count": 38,
   "metadata": {},
   "outputs": [],
   "source": [
    "# Response prediction of X_test\n",
    "testPredictions=X_test.dot(coefficients)\n",
    "testPredictions=np.exp(testPredictions)/(1+np.exp(testPredictions))\n",
    "testPredictions=getResponses(testPredictions)"
   ]
  },
  {
   "cell_type": "code",
   "execution_count": 62,
   "metadata": {},
   "outputs": [
    {
     "data": {
      "text/plain": [
       "(3, 295, 1, 293)"
      ]
     },
     "execution_count": 62,
     "metadata": {},
     "output_type": "execute_result"
    }
   ],
   "source": [
    "# Confusion matrix\n",
    "tn,fp,fn,tp=confusion_matrix(Y_test,testPredictions).ravel()\n",
    "tn,fp,fn,tp"
   ]
  },
  {
   "cell_type": "code",
   "execution_count": 67,
   "metadata": {},
   "outputs": [
    {
     "data": {
      "text/plain": [
       "0.99659863945578231"
      ]
     },
     "execution_count": 67,
     "metadata": {},
     "output_type": "execute_result"
    }
   ],
   "source": [
    "# Sensitivity\n",
    "sensitivity=tp/(fn+tp)\n",
    "sensitivity\n",
    "# Interpretation: 99.7% of the actual positives(1) are predicted correctly"
   ]
  },
  {
   "cell_type": "code",
   "execution_count": 69,
   "metadata": {},
   "outputs": [
    {
     "data": {
      "text/plain": [
       "0.010067114093959731"
      ]
     },
     "execution_count": 69,
     "metadata": {},
     "output_type": "execute_result"
    }
   ],
   "source": [
    "# Specificity\n",
    "specificity=tn/(tn+fp)\n",
    "specificity\n",
    "# Interpretation: Of all the negatives(0) only 1% are predicted correctly - \n",
    "# which is bad and depends on our prediction goal"
   ]
  },
  {
   "cell_type": "code",
   "execution_count": 71,
   "metadata": {},
   "outputs": [
    {
     "data": {
      "text/plain": [
       "0.49829931972789115"
      ]
     },
     "execution_count": 71,
     "metadata": {},
     "output_type": "execute_result"
    }
   ],
   "source": [
    "# Precision\n",
    "precision=tp/(tp+fp)\n",
    "precision\n",
    "# Interpretation: About 50% of the predicted positives are actually positive, which is not that good"
   ]
  },
  {
   "cell_type": "code",
   "execution_count": 72,
   "metadata": {},
   "outputs": [
    {
     "data": {
      "text/plain": [
       "0.99659863945578231"
      ]
     },
     "execution_count": 72,
     "metadata": {},
     "output_type": "execute_result"
    }
   ],
   "source": [
    "# Recall==sensitivity\n",
    "sensitivity"
   ]
  },
  {
   "cell_type": "code",
   "execution_count": 77,
   "metadata": {},
   "outputs": [
    {
     "name": "stdout",
     "output_type": "stream",
     "text": [
      "misclassification: 0.5, accuracy: 0.5\n"
     ]
    }
   ],
   "source": [
    "# Accuracy and misclassfication rate\n",
    "misclassification=1-accuracy\n",
    "accuracy=(tp+tn)/(tp+fn+fp+tn)\n",
    "print('misclassification: {}, accuracy: {}'.format(misclassification,accuracy))\n",
    "# Accuracy is only 50%.Hence the model is not even better than a random guess"
   ]
  },
  {
   "cell_type": "code",
   "execution_count": 91,
   "metadata": {},
   "outputs": [
    {
     "data": {
      "image/png": "[encoded data removed]",
      "text/plain": [
       "<matplotlib.figure.Figure at 0x296f48ea470>"
      ]
     },
     "metadata": {},
     "output_type": "display_data"
    }
   ],
   "source": [
    "# ROC curve\n",
    "fpr,tpr,thresholds=roc_curve(Y_test,testPredictions)\n",
    "auc=roc_auc_score(Y_test,testPredictions)\n",
    "auc\n",
    "plt.plot(fpr,tpr,label='auc'+str(auc))\n",
    "plt.legend(loc=4)\n",
    "plt.show()\n",
    "# It is a very bad roc"
   ]
  },
  {
   "cell_type": "code",
   "execution_count": 93,
   "metadata": {},
   "outputs": [
    {
     "data": {
      "text/plain": [
       "0.13397012758849569"
      ]
     },
     "execution_count": 93,
     "metadata": {},
     "output_type": "execute_result"
    }
   ],
   "source": [
    "# Pseudo R2 - McFadden R2\n",
    "McFaddenR= 1- (model_lg.llf/model_lg.llnull)\n",
    "McFaddenR\n",
    "# Higher the value of McFadden R2 better is the model. Here the value is not high, hence the model is not good"
   ]
  },
  {
   "cell_type": "code",
   "execution_count": 100,
   "metadata": {},
   "outputs": [
    {
     "name": "stdout",
     "output_type": "stream",
     "text": [
      "             precision    recall  f1-score   support\n",
      "\n",
      "          0       0.75      0.01      0.02       298\n",
      "          1       0.50      1.00      0.66       294\n",
      "\n",
      "avg / total       0.62      0.50      0.34       592\n",
      "\n"
     ]
    }
   ],
   "source": [
    "# Precision and recall from builtin function\n",
    "print(classification_report(Y_test,testPredictions))"
   ]
  }
 ],
 "metadata": {
  "kernelspec": {
   "display_name": "Python 3",
   "language": "python",
   "name": "python3"
  },
  "language_info": {
   "codemirror_mode": {
    "name": "ipython",
    "version": 3
   },
   "file_extension": ".py",
   "mimetype": "text/x-python",
   "name": "python",
   "nbconvert_exporter": "python",
   "pygments_lexer": "ipython3",
   "version": "3.6.1"
  }
 },
 "nbformat": 4,
 "nbformat_minor": 2
}
